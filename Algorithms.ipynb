{
 "cells": [
  {
   "cell_type": "markdown",
   "metadata": {},
   "source": [
    "# Algorithms"
   ]
  },
  {
   "cell_type": "markdown",
   "metadata": {},
   "source": [
    "Bubble Sort"
   ]
  },
  {
   "cell_type": "code",
   "execution_count": null,
   "metadata": {},
   "outputs": [],
   "source": [
    "def bubble(list):\n",
    "    for i in range(len(list)-1, 0, -1):\n",
    "        check_swap = False\n",
    "        for j in range(i):\n",
    "            if list[j] > list[j+1]:\n",
    "                list[j], list[j+1] = list[j+1], list[j]\n",
    "                check_swap = True\n",
    "        if check_swap == False:\n",
    "            break\n",
    "    \n",
    "    return list\n",
    "print(bubble([1,4,5,5,6,6,34,5,34,534,5,14,53,51]))"
   ]
  },
  {
   "cell_type": "markdown",
   "metadata": {},
   "source": [
    "Selection Sort"
   ]
  },
  {
   "cell_type": "code",
   "execution_count": null,
   "metadata": {},
   "outputs": [],
   "source": [
    "def selection(list):\n",
    "    \n",
    "    for i in range(len(list)):\n",
    "        minpos = i\n",
    "        for j in range(i, len(list)):\n",
    "            if list[j] < list[minpos]:\n",
    "                minpos = j\n",
    "        list[i], list[minpos] = list[minpos], list[i]\n",
    "    return list\n",
    "        \n",
    "print(selection([1,4,5,5,6,6,34,5,34,534,5,14,53,51])) "
   ]
  },
  {
   "cell_type": "markdown",
   "metadata": {},
   "source": [
    "Insertion Sort"
   ]
  },
  {
   "cell_type": "code",
   "execution_count": null,
   "metadata": {},
   "outputs": [],
   "source": [
    "def insertion(list):\n",
    "    for i in range(1, len(list)):\n",
    "        for j in range(i-1, 0, -1):\n",
    "            if list[j] > list[j+1]:\n",
    "                list[j], list[j+1] = list[j+1], list[j]\n",
    "            else:\n",
    "                break\n",
    "    return list\n",
    "                             \n",
    "print(insertion([1,4,5,5,6,6,34,5,34,534,5,14,53,51])) "
   ]
  },
  {
   "cell_type": "code",
   "execution_count": null,
   "metadata": {},
   "outputs": [],
   "source": [
    "def insertion(list):\n",
    "    for i in range(1, len(list)):\n",
    "        j = i-1\n",
    "        while list[j] > list[j+1] and j > 0:\n",
    "            list[j], list[j+1] = list[j+1], list[j]\n",
    "            j -= 1\n",
    "    return list\n",
    "                             \n",
    "print(insertion([1,4,5,5,6,6,34,5,34,534,5,14,53,51])) "
   ]
  },
  {
   "cell_type": "markdown",
   "metadata": {},
   "source": [
    "Merge Sort"
   ]
  },
  {
   "cell_type": "code",
   "execution_count": null,
   "metadata": {},
   "outputs": [],
   "source": [
    "def merge_sort(list):\n",
    "    if len(list) > 1:\n",
    "        left_arr = list[:len(list)//2]\n",
    "        right_arr = list[len(list)//2:]\n",
    "        \n",
    "        merge_sort(left_arr)\n",
    "        merge_sort(right_arr)\n",
    "    \n",
    "        i = 0\n",
    "        j = 0\n",
    "        k = 0\n",
    "      \n",
    "    \n",
    "        while i < len(left_arr) and j < len(right_arr):\n",
    "            if left_arr[i] < right_arr[j]:\n",
    "                list[k] = left_arr[i]\n",
    "                i += 1\n",
    "                k += 1\n",
    "            else:\n",
    "                list[k] = right_arr[j]\n",
    "                j += 1\n",
    "                k += 1\n",
    "            \n",
    "        while i < len(left_arr):\n",
    "            list[k] = left_arr[i]\n",
    "            i += 1\n",
    "            k += 1\n",
    "        \n",
    "        while j < len(right_arr):\n",
    "            list[k] = right_arr[j]\n",
    "            j += 1\n",
    "            k += 1\n",
    "            \n",
    "    return list\n",
    "            \n",
    "print(merge_sort([1,4,5,5,6,6,34,5,34,534,5,14,53,51])) "
   ]
  },
  {
   "cell_type": "markdown",
   "metadata": {},
   "source": [
    "Quick Sort"
   ]
  },
  {
   "cell_type": "code",
   "execution_count": null,
   "metadata": {},
   "outputs": [],
   "source": [
    "def quicksort(list):\n",
    "    if len(list) <= 1:\n",
    "        return list\n",
    "    else:\n",
    "        pivot = list.pop()\n",
    "        \n",
    "    items_greater = []\n",
    "    items_lower = []\n",
    "    \n",
    "    for item in list:\n",
    "        if item > pivot:\n",
    "            items_greater.append(item)\n",
    "        else:\n",
    "            items_lower.append(item)\n",
    "            \n",
    "    return quicksort(items_lower) + [pivot] + quicksort(items_greater) \n",
    "\n",
    "print(quicksort([1,4,5,5,6,6,34,5,34,534,5,14,53,51])) "
   ]
  },
  {
   "cell_type": "code",
   "execution_count": null,
   "metadata": {},
   "outputs": [],
   "source": [
    "def quicksort(list, left, right):\n",
    "    \n",
    "    if left < right:\n",
    "        pi = partition(list, left, right)\n",
    "        quicksort(list, left, pi-1)\n",
    "        quicksort(list, pi+1, right)\n",
    "    return list\n",
    "        \n",
    "        \n",
    "def partition(list, left, right):\n",
    "    i = left\n",
    "    j = right - 1\n",
    "    pivot = list[right]\n",
    "    \n",
    "    while i < j:\n",
    "        while i < right and list[i] < pivot:\n",
    "            i += 1\n",
    "        while j > left and list[j] >= pivot:\n",
    "            j -= 1\n",
    "            \n",
    "        if i < j: \n",
    "            list[i], list[j] = list[j], list[i]\n",
    "            \n",
    "    if list[i] > pivot:\n",
    "        list[i], list[right] = list[right], list[i]\n",
    "        \n",
    "    return i\n",
    "\n",
    "     \n",
    "\n",
    "arr = [1,4,5,5,6,6,34,5,34,534,5,14,53,51]\n",
    "print(quicksort(arr, 0, len(arr)-1))  "
   ]
  },
  {
   "cell_type": "markdown",
   "metadata": {},
   "source": [
    "Binary Search"
   ]
  },
  {
   "cell_type": "code",
   "execution_count": null,
   "metadata": {},
   "outputs": [],
   "source": [
    "def binarysearch(list, target):\n",
    "    list.sort()\n",
    "    begin = 0\n",
    "    end = len(list) \n",
    "    \n",
    "    while begin < end:\n",
    "        mid = (begin + end)//2\n",
    "        if target == list[mid]:\n",
    "            return mid\n",
    "        elif target < list[mid]:\n",
    "            end = mid\n",
    "        else:\n",
    "            low = mid\n",
    "            \n",
    "    return -1\n",
    "\n",
    "\n",
    "\n",
    "print(binarysearch(data, 3))"
   ]
  },
  {
   "cell_type": "code",
   "execution_count": null,
   "metadata": {},
   "outputs": [],
   "source": [
    "Numerical Integration"
   ]
  },
  {
   "cell_type": "code",
   "execution_count": null,
   "metadata": {},
   "outputs": [],
   "source": [
    "def f(t):\n",
    "    return t**2\n",
    "    \n",
    "\n",
    "def function(a,b,N):\n",
    "    h = (b-a)/(N)\n",
    "    trap = (f(b)-f(a))/2\n",
    "    for i in range(1, N):\n",
    "        trap += f(a+i*h)\n",
    "    sum_trap = trap*h\n",
    "    \n",
    "    return sum_trap\n",
    "\n",
    "print(function(0,2,10))\n",
    "\n",
    "\n",
    "\n",
    "def function2(a,b,N):\n",
    "    output = (b-a)*(f(b) + f(a))/2\n",
    "    return output\n",
    "\n",
    "print(function2(0,2,1))"
   ]
  }
 ],
 "metadata": {
  "kernelspec": {
   "display_name": "Python 3",
   "language": "python",
   "name": "python3"
  },
  "language_info": {
   "codemirror_mode": {
    "name": "ipython",
    "version": 3
   },
   "file_extension": ".py",
   "mimetype": "text/x-python",
   "name": "python",
   "nbconvert_exporter": "python",
   "pygments_lexer": "ipython3",
   "version": "3.7.7"
  }
 },
 "nbformat": 4,
 "nbformat_minor": 4
}
